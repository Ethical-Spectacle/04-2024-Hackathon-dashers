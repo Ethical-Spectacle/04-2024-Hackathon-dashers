{
 "cells": [
  {
   "cell_type": "code",
   "execution_count": 5,
   "metadata": {},
   "outputs": [
    {
     "ename": "ImportError",
     "evalue": "cannot import name 'pywraplp' from 'ortools.constraint_solver' (/opt/homebrew/lib/python3.11/site-packages/ortools/constraint_solver/__init__.py)",
     "output_type": "error",
     "traceback": [
      "\u001b[0;31m---------------------------------------------------------------------------\u001b[0m",
      "\u001b[0;31mImportError\u001b[0m                               Traceback (most recent call last)",
      "Cell \u001b[0;32mIn[5], line 1\u001b[0m\n\u001b[0;32m----> 1\u001b[0m \u001b[38;5;28;01mfrom\u001b[39;00m \u001b[38;5;21;01mortools\u001b[39;00m\u001b[38;5;21;01m.\u001b[39;00m\u001b[38;5;21;01mconstraint_solver\u001b[39;00m \u001b[38;5;28;01mimport\u001b[39;00m routing_enums_pb2, pywraplp\n\u001b[1;32m      2\u001b[0m \u001b[38;5;28;01mfrom\u001b[39;00m \u001b[38;5;21;01mfolium\u001b[39;00m \u001b[38;5;28;01mimport\u001b[39;00m Map, Marker, PolyLine\n\u001b[1;32m      4\u001b[0m \u001b[38;5;66;03m# Sample delivery locations (replace with your data)\u001b[39;00m\n",
      "\u001b[0;31mImportError\u001b[0m: cannot import name 'pywraplp' from 'ortools.constraint_solver' (/opt/homebrew/lib/python3.11/site-packages/ortools/constraint_solver/__init__.py)"
     ]
    }
   ],
   "source": [
    "from ortools.constraint_solver import routing_enums_pb2, pywraplp\n",
    "from folium import Map, Marker, PolyLine\n",
    "\n",
    "# Sample delivery locations (replace with your data)\n",
    "locations = [\n",
    "    {'id': 1, 'lat': 37.7749, 'lon': -122.4194},  # San Francisco\n",
    "    {'id': 2, 'lat': 34.0522, 'lon': -118.2437},  # Los Angeles\n",
    "    {'id': 3, 'lat': 33.4483, 'lon': -112.0776},  # Phoenix\n",
    "    {'id': 4, 'lat': 47.6062, 'lon': -122.3321},  # Seattle\n",
    "    {'id': 5, 'lat': 39.7392, 'lon': -104.9903},  # Denver\n",
    "]\n",
    "\n",
    "# Define distance function (replace with actual calculation using OSM distance matrix API or coordinates)\n",
    "def distance(loc1, loc2):\n",
    "    # Replace with your distance calculation logic (e.g., using OSM distance matrix API)\n",
    "    return abs(loc1['lat'] - loc2['lat']) + abs(loc1['lon'] - loc2['lon'])\n",
    "\n",
    "# Create distance matrix from locations\n",
    "distance_matrix = [[distance(loc1, loc2) for loc2 in locations] for loc1 in locations]\n",
    "\n",
    "# Create routing model\n",
    "manager = pywraplp.Solver.CreateSolver('CBC')\n",
    "routing = routing_enums_pb2.RoutingModel(manager)\n",
    "\n",
    "# Define vehicle and depot\n",
    "depot = 0\n",
    "n_vehicles = 1\n",
    "vehicle_capacities = [10]  # Adjust capacity as needed\n",
    "\n",
    "# Define distance callback\n",
    "def distance_callback(from_index, to_index):\n",
    "    return distance_matrix[from_index][to_index]\n",
    "\n",
    "routing.SetDistanceCallback(distance_callback)\n",
    "\n",
    "# Create dimension for vehicle capacity\n",
    "transit_callback = lambda from_index, to_index: 0  # No transit cost between locations\n",
    "dimension_name = 'Capacity'\n",
    "routing.AddDimensionWithVehicleCapacity(transit_callback, 0, vehicle_capacities, dimension_name, True)\n",
    "routing.SetFixedCostCallback(lambda from_index, to_index: 0)  # No fixed cost\n",
    "\n",
    "# Search parameters\n",
    "search_parameters = pywraplp.DefaultRoutingSearchParameters()\n",
    "search_parameters.first_solution_strategy = routing_enums_pb2.FirstSolutionStrategy.GLOBAL_CHEAPEST_ARC\n",
    "\n",
    "# Solve the VRP\n",
    "assignment = routing.SolveWithParameters(search_parameters)\n",
    "\n",
    "# Check solution status\n",
    "if assignment.status() != routing_enums_pb2.RoutingModel.OPTIMAL:\n",
    "    print(\"Solution not optimal!\")\n",
    "    exit()\n",
    "\n",
    "# Extract optimized route\n",
    "route = assignment.solution().GetValues(routing.NextVar())\n",
    "optimized_route = [locations[i] for i in route]\n",
    "\n",
    "# Create initial Leaflet map centered on the first location\n",
    "m = Map(location=[optimized_route[0]['lat'], optimized_route[0]['lon']], zoom_start=6)\n",
    "\n",
    "# Add markers for each location\n",
    "for loc in optimized_route:\n",
    "    Marker([loc['lat'], loc['lon']], popup=f\"Stop {loc['id']}\").add_to(m)\n",
    "\n",
    "# Create PolyLine for the route\n",
    "route_coords = [(loc['lat'], loc['lon']) for loc in optimized_route]\n",
    "folium.PolyLine(route_coords, color='blue', weight=2).add_to(m)\n",
    "\n",
    "# Display the optimized route\n",
    "m\n"
   ]
  }
 ],
 "metadata": {
  "kernelspec": {
   "display_name": "Python 3",
   "language": "python",
   "name": "python3"
  },
  "language_info": {
   "codemirror_mode": {
    "name": "ipython",
    "version": 3
   },
   "file_extension": ".py",
   "mimetype": "text/x-python",
   "name": "python",
   "nbconvert_exporter": "python",
   "pygments_lexer": "ipython3",
   "version": "3.11.8"
  }
 },
 "nbformat": 4,
 "nbformat_minor": 2
}
